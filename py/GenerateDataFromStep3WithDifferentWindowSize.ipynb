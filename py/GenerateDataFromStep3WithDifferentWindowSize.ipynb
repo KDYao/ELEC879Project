{
 "cells": [
  {
   "cell_type": "code",
   "execution_count": 3,
   "metadata": {},
   "outputs": [],
   "source": [
    "import os\n",
    "import sys\n",
    "import numpy as np\n",
    "from multiprocessing.pool import ThreadPool\n",
    "import subprocess\n",
    "\n",
    "\n",
    "def generateStep3Data(window_size):\n",
    "    proc_cmd = \"Rscript Step3_SensorData_Feature_Engineering.R %s\" % str(window_size)\n",
    "\n",
    "    proc = subprocess.Popen(proc_cmd, shell=True, stdout=subprocess.PIPE)\n",
    "\n",
    "    out = proc.stdout.read()\n",
    "\n",
    "    proc.kill()\n",
    "\n",
    "    return out\n",
    "\n",
    "\n",
    "output_list = []\n",
    "\n",
    "\n",
    "def addToOutput(out):\n",
    "    output_list.append(out)\n",
    "\n",
    "\n",
    "if __name__ == '__main__':\n",
    "\n",
    "    cwd = os.getcwd()\n",
    "\n",
    "    if os.path.isdir(\"../Rscripts\"):\n",
    "        os.chdir(\"../Rscripts\")\n",
    "    else:\n",
    "        print(\"../Rscripts folder doesn't exist, please check again\")\n",
    "        sys.exit(0)\n",
    "\n",
    "    # Define sample frequency in current dataset\n",
    "    sample_freq = 240\n",
    "    window_size_list = list(np.arange(0.5, 5.0, 0.5))\n",
    "\n",
    "    th_pool = ThreadPool(processes=len(window_size_list))\n",
    "\n",
    "    for p in window_size_list:\n",
    "        window_size = int(sample_freq * p)\n",
    "\n",
    "        async_result = th_pool.apply_async(func=generateStep3Data, args=[window_size], callback=addToOutput)\n",
    "\n",
    "    th_pool.close()\n",
    "    th_pool.join()\n",
    "    \n",
    "    # Recover working directory\n",
    "    os.chdir(cwd)\n"
   ]
  }
 ],
 "metadata": {
  "kernelspec": {
   "display_name": "Python 3",
   "language": "python",
   "name": "python3"
  },
  "language_info": {
   "codemirror_mode": {
    "name": "ipython",
    "version": 3
   },
   "file_extension": ".py",
   "mimetype": "text/x-python",
   "name": "python",
   "nbconvert_exporter": "python",
   "pygments_lexer": "ipython3",
   "version": "3.7.0"
  }
 },
 "nbformat": 4,
 "nbformat_minor": 2
}
